{
 "cells": [
  {
   "cell_type": "markdown",
   "id": "178b28f8-dbb4-40bd-8b27-304c35dc0ecd",
   "metadata": {},
   "source": [
    "DATA ANALYTICS PROJECT: ZOMATO DATA ANALYSIS USING PYTHON\n",
    "\n",
    "\n",
    "The main reason for the analysis is to find out:\n",
    "\n",
    "1.Do a greater number of restaurants provide online delivery as opposed to offline services?\n",
    "\r",
    "2.\n",
    "Which types of restaurants are the most favored by the general public\n",
    "\n",
    "3.\r\n",
    "What price range is preferred by couples for food at restaurants?5"
   ]
  },
  {
   "cell_type": "code",
   "execution_count": 9,
   "id": "ab21f60e-740a-4fa0-9b20-8cffbce1be31",
   "metadata": {},
   "outputs": [],
   "source": [
    "#Step 1: Import necessary Python libraries.\n",
    "import pandas as pd\n",
    "import numpy as np\n",
    "import matplotlib.pyplot as plt\n",
    "import seaborn as sns"
   ]
  },
  {
   "cell_type": "code",
   "execution_count": 13,
   "id": "5320d8a3-b0ea-454c-8751-458a1066e1f9",
   "metadata": {},
   "outputs": [],
   "source": [
    "#importing the data \n",
    "df = pd.read_csv(\"C:/Users/arjun/Desktop/data analytics projects/Zomato-data-.csv\")"
   ]
  },
  {
   "cell_type": "code",
   "execution_count": 15,
   "id": "115eb202-331c-46ef-be8c-6cfe39440270",
   "metadata": {},
   "outputs": [
    {
     "name": "stdout",
     "output_type": "stream",
     "text": [
      "<class 'pandas.core.frame.DataFrame'>\n",
      "RangeIndex: 148 entries, 0 to 147\n",
      "Data columns (total 7 columns):\n",
      " #   Column                       Non-Null Count  Dtype \n",
      "---  ------                       --------------  ----- \n",
      " 0   name                         148 non-null    object\n",
      " 1   online_order                 148 non-null    object\n",
      " 2   book_table                   148 non-null    object\n",
      " 3   rate                         148 non-null    object\n",
      " 4   votes                        148 non-null    int64 \n",
      " 5   approx_cost(for two people)  148 non-null    int64 \n",
      " 6   listed_in(type)              148 non-null    object\n",
      "dtypes: int64(2), object(5)\n",
      "memory usage: 8.2+ KB\n"
     ]
    }
   ],
   "source": [
    "df.info()"
   ]
  },
  {
   "cell_type": "code",
   "execution_count": 17,
   "id": "53fe155a-29d5-4ddb-941f-9a3c8e044553",
   "metadata": {},
   "outputs": [
    {
     "data": {
      "text/plain": [
       "name                           0\n",
       "online_order                   0\n",
       "book_table                     0\n",
       "rate                           0\n",
       "votes                          0\n",
       "approx_cost(for two people)    0\n",
       "listed_in(type)                0\n",
       "dtype: int64"
      ]
     },
     "execution_count": 17,
     "metadata": {},
     "output_type": "execute_result"
    }
   ],
   "source": [
    "df.isnull().sum()"
   ]
  },
  {
   "cell_type": "code",
   "execution_count": null,
   "id": "e14b0913-1df3-405c-b880-ad870c34a6d8",
   "metadata": {},
   "outputs": [],
   "source": [
    "# There is no null value in the dataframe"
   ]
  },
  {
   "cell_type": "code",
   "execution_count": 25,
   "id": "64fe6735-731c-4130-a856-3c7d693a3712",
   "metadata": {},
   "outputs": [
    {
     "data": {
      "text/html": [
       "<div>\n",
       "<style scoped>\n",
       "    .dataframe tbody tr th:only-of-type {\n",
       "        vertical-align: middle;\n",
       "    }\n",
       "\n",
       "    .dataframe tbody tr th {\n",
       "        vertical-align: top;\n",
       "    }\n",
       "\n",
       "    .dataframe thead th {\n",
       "        text-align: right;\n",
       "    }\n",
       "</style>\n",
       "<table border=\"1\" class=\"dataframe\">\n",
       "  <thead>\n",
       "    <tr style=\"text-align: right;\">\n",
       "      <th></th>\n",
       "      <th>name</th>\n",
       "      <th>online_order</th>\n",
       "      <th>book_table</th>\n",
       "      <th>rate</th>\n",
       "      <th>votes</th>\n",
       "      <th>approx_cost(for two people)</th>\n",
       "      <th>listed_in(type)</th>\n",
       "    </tr>\n",
       "  </thead>\n",
       "  <tbody>\n",
       "    <tr>\n",
       "      <th>42</th>\n",
       "      <td>McDonald's</td>\n",
       "      <td>Yes</td>\n",
       "      <td>No</td>\n",
       "      <td>3.9</td>\n",
       "      <td>286</td>\n",
       "      <td>500</td>\n",
       "      <td>Dining</td>\n",
       "    </tr>\n",
       "    <tr>\n",
       "      <th>88</th>\n",
       "      <td>Dessert Rose</td>\n",
       "      <td>No</td>\n",
       "      <td>No</td>\n",
       "      <td>3.5</td>\n",
       "      <td>7</td>\n",
       "      <td>500</td>\n",
       "      <td>Dining</td>\n",
       "    </tr>\n",
       "    <tr>\n",
       "      <th>93</th>\n",
       "      <td>Thanco's Natural Ice Creams</td>\n",
       "      <td>No</td>\n",
       "      <td>No</td>\n",
       "      <td>3.2</td>\n",
       "      <td>9</td>\n",
       "      <td>300</td>\n",
       "      <td>Dining</td>\n",
       "    </tr>\n",
       "    <tr>\n",
       "      <th>137</th>\n",
       "      <td>Hotel Andhra Speices</td>\n",
       "      <td>No</td>\n",
       "      <td>No</td>\n",
       "      <td>2.9</td>\n",
       "      <td>0</td>\n",
       "      <td>250</td>\n",
       "      <td>Dining</td>\n",
       "    </tr>\n",
       "    <tr>\n",
       "      <th>121</th>\n",
       "      <td>New Mangalore Lunch Home</td>\n",
       "      <td>No</td>\n",
       "      <td>No</td>\n",
       "      <td>3.3</td>\n",
       "      <td>7</td>\n",
       "      <td>200</td>\n",
       "      <td>Dining</td>\n",
       "    </tr>\n",
       "    <tr>\n",
       "      <th>113</th>\n",
       "      <td>Dharwad Line Bazaar Mishra Pedha</td>\n",
       "      <td>No</td>\n",
       "      <td>No</td>\n",
       "      <td>3.4</td>\n",
       "      <td>0</td>\n",
       "      <td>150</td>\n",
       "      <td>Dining</td>\n",
       "    </tr>\n",
       "  </tbody>\n",
       "</table>\n",
       "</div>"
      ],
      "text/plain": [
       "                                 name online_order book_table  rate  votes  \\\n",
       "42                         McDonald's          Yes         No   3.9    286   \n",
       "88                       Dessert Rose           No         No   3.5      7   \n",
       "93        Thanco's Natural Ice Creams           No         No   3.2      9   \n",
       "137              Hotel Andhra Speices           No         No   2.9      0   \n",
       "121          New Mangalore Lunch Home           No         No   3.3      7   \n",
       "113  Dharwad Line Bazaar Mishra Pedha           No         No   3.4      0   \n",
       "\n",
       "     approx_cost(for two people) listed_in(type)  \n",
       "42                           500          Dining  \n",
       "88                           500          Dining  \n",
       "93                           300          Dining  \n",
       "137                          250          Dining  \n",
       "121                          200          Dining  \n",
       "113                          150          Dining  "
      ]
     },
     "execution_count": 25,
     "metadata": {},
     "output_type": "execute_result"
    }
   ],
   "source": [
    "#convertig the datatype of rate into float and removing the denominator \n",
    "\n",
    "def ratehandling(value):\n",
    "    value=str(value).split('/')[0]\n",
    "    return float(value)\n",
    "\n",
    "df['rate']=df['rate'].apply(ratehandling)\n",
    "df.sample(6)"
   ]
  },
  {
   "cell_type": "code",
   "execution_count": 29,
   "id": "2813f459-7966-4f27-9b0b-b1fb01c35971",
   "metadata": {},
   "outputs": [
    {
     "name": "stdout",
     "output_type": "stream",
     "text": [
      "<class 'pandas.core.frame.DataFrame'>\n",
      "RangeIndex: 148 entries, 0 to 147\n",
      "Data columns (total 7 columns):\n",
      " #   Column                       Non-Null Count  Dtype  \n",
      "---  ------                       --------------  -----  \n",
      " 0   name                         148 non-null    object \n",
      " 1   online_order                 148 non-null    object \n",
      " 2   book_table                   148 non-null    object \n",
      " 3   rate                         148 non-null    float64\n",
      " 4   votes                        148 non-null    int64  \n",
      " 5   approx_cost(for two people)  148 non-null    int64  \n",
      " 6   listed_in(type)              148 non-null    object \n",
      "dtypes: float64(1), int64(2), object(4)\n",
      "memory usage: 8.2+ KB\n"
     ]
    }
   ],
   "source": [
    "df.info()"
   ]
  },
  {
   "cell_type": "markdown",
   "id": "682a6cfd-2d4a-4c85-8564-18e8281b5051",
   "metadata": {},
   "source": [
    "Data Visualisations"
   ]
  },
  {
   "cell_type": "markdown",
   "id": "df41f41d-282a-4d72-ae65-327ecef5005e",
   "metadata": {},
   "source": [
    "1.Under which category does most of the restaurant falls under and most votes given by individuals?"
   ]
  },
  {
   "cell_type": "code",
   "execution_count": 57,
   "id": "19962a90-a984-4261-b2b7-d59eca46f241",
   "metadata": {},
   "outputs": [
    {
     "name": "stderr",
     "output_type": "stream",
     "text": [
      "C:\\Users\\arjun\\AppData\\Local\\Temp\\ipykernel_15780\\3431182137.py:1: FutureWarning: \n",
      "\n",
      "Passing `palette` without assigning `hue` is deprecated and will be removed in v0.14.0. Assign the `x` variable to `hue` and set `legend=False` for the same effect.\n",
      "\n",
      "  sns.countplot(x = df['listed_in(type)'], palette=\"muted\")\n"
     ]
    },
    {
     "data": {
      "text/plain": [
       "Text(0.5, 0, 'Types of Restaurant')"
      ]
     },
     "execution_count": 57,
     "metadata": {},
     "output_type": "execute_result"
    },
    {
     "data": {
      "image/png": "[encoded data removed]",
      "text/plain": [
       "<Figure size 640x480 with 1 Axes>"
      ]
     },
     "metadata": {},
     "output_type": "display_data"
    }
   ],
   "source": [
    "sns.countplot(x = df['listed_in(type)'], palette=\"muted\")\n",
    "plt.xlabel('Types of Restaurant')\n",
    "              "
   ]
  },
  {
   "cell_type": "markdown",
   "id": "0f7610f2-fe0f-41a4-a3eb-8990ea13283c",
   "metadata": {},
   "source": [
    "Conclusion: The majority of the restaurants fall into the dining category"
   ]
  },
  {
   "cell_type": "code",
   "execution_count": 86,
   "id": "b7d37a8e-4ca5-4d10-ae3e-fa94d86d6793",
   "metadata": {},
   "outputs": [
    {
     "data": {
      "text/plain": [
       "Text(0, 0.5, 'Votes')"
      ]
     },
     "execution_count": 86,
     "metadata": {},
     "output_type": "execute_result"
    },
    {
     "data": {
      "image/png": "[encoded data removed]",
      "text/plain": [
       "<Figure size 640x480 with 1 Axes>"
      ]
     },
     "metadata": {},
     "output_type": "display_data"
    }
   ],
   "source": [
    "grouped_data = df.groupby('listed_in(type)')['votes'].sum()\n",
    "result = pd.DataFrame({'votes': grouped_data})\n",
    "plt.plot(result.index, result['votes'], c='blue', marker='o')\n",
    "plt.xlabel('Type of restaurant', c='red', size=20)\n",
    "plt.ylabel('Votes', c='red', size=20)"
   ]
  },
  {
   "cell_type": "markdown",
   "id": "e36e85a5-e9ab-49f5-b34a-09f204f0730c",
   "metadata": {},
   "source": [
    "Conclusion: Dining restaurants are preferred by a larger number of individuals.\r\n",
    "\r\n"
   ]
  },
  {
   "cell_type": "markdown",
   "id": "f1786309-0a5f-4245-ab4a-cba406ec9d53",
   "metadata": {},
   "source": [
    "2.Determine the restaurant’s name that received the maximum votes based on a given data."
   ]
  },
  {
   "cell_type": "code",
   "execution_count": 70,
   "id": "a676d5b1-074d-493b-848c-f046bf8b6011",
   "metadata": {},
   "outputs": [
    {
     "name": "stdout",
     "output_type": "stream",
     "text": [
      "Restaurants with the maximum votes:\n",
      "38    Empire Restaurant\n",
      "Name: name, dtype: object\n"
     ]
    }
   ],
   "source": [
    "max_votes = df['votes'].max()\n",
    "restaurant_with_max_votes = df.loc[df['votes'] == max_votes, 'name']\n",
    "\n",
    "print('Restaurants with the maximum votes:')\n",
    "print(restaurant_with_max_votes)\n"
   ]
  },
  {
   "cell_type": "markdown",
   "id": "d8c8541c-9b60-4570-80cc-372eef221a2b",
   "metadata": {},
   "source": [
    "Conclusion: Empire restaurant is considered to be the most liked restaurant"
   ]
  },
  {
   "cell_type": "markdown",
   "id": "6e654fb6-66c3-41a6-a070-7ba071eda182",
   "metadata": {},
   "source": [
    "3.Does majority of the restaurants take online orders?"
   ]
  },
  {
   "cell_type": "code",
   "execution_count": 82,
   "id": "9e2c6b0b-a6d4-4dd2-9478-9066a8543731",
   "metadata": {},
   "outputs": [
    {
     "name": "stderr",
     "output_type": "stream",
     "text": [
      "C:\\Users\\arjun\\AppData\\Local\\Temp\\ipykernel_15780\\2301430631.py:1: FutureWarning: \n",
      "\n",
      "Passing `palette` without assigning `hue` is deprecated and will be removed in v0.14.0. Assign the `x` variable to `hue` and set `legend=False` for the same effect.\n",
      "\n",
      "  sns.countplot(x=df['online_order'], palette= \"deep\")\n"
     ]
    },
    {
     "data": {
      "text/plain": [
       "<Axes: xlabel='online_order', ylabel='count'>"
      ]
     },
     "execution_count": 82,
     "metadata": {},
     "output_type": "execute_result"
    },
    {
     "data": {
      "image/png": "[encoded data removed]",
      "text/plain": [
       "<Figure size 640x480 with 1 Axes>"
      ]
     },
     "metadata": {},
     "output_type": "display_data"
    }
   ],
   "source": [
    "sns.countplot(x=df['online_order'], palette= \"deep\")"
   ]
  },
  {
   "cell_type": "markdown",
   "id": "6705cee7-3375-4033-beab-e87460435a1d",
   "metadata": {},
   "source": [
    "Conclusion: Most of the restaurants doesnt accept online orders"
   ]
  },
  {
   "cell_type": "markdown",
   "id": "78389078-9f0f-4bc9-bc51-e138af562341",
   "metadata": {},
   "source": [
    "4.what is the range of rating for most of the restaurants"
   ]
  },
  {
   "cell_type": "code",
   "execution_count": 90,
   "id": "3f7c77dd-121a-4849-8509-3c3a70ec596b",
   "metadata": {},
   "outputs": [
    {
     "data": {
      "image/png": "[encoded data removed]",
      "text/plain": [
       "<Figure size 640x480 with 1 Axes>"
      ]
     },
     "metadata": {},
     "output_type": "display_data"
    }
   ],
   "source": [
    "plt.hist(df['rate'],bins=5)\n",
    "plt.title('Ratings Distribution')\n",
    "plt.show()\n"
   ]
  },
  {
   "cell_type": "markdown",
   "id": "47265421-937d-44f3-9004-602d6c038289",
   "metadata": {},
   "source": [
    "Conclusion: Most of the restaurants are getting rating between 3.50 to 4"
   ]
  },
  {
   "cell_type": "markdown",
   "id": "572f37a1-1f99-48f3-9a08-233b854178b0",
   "metadata": {},
   "source": [
    "5.What price range is preferred by couples for their food at restaurants?"
   ]
  },
  {
   "cell_type": "code",
   "execution_count": 98,
   "id": "7ef53122-954f-460f-a320-be292542792d",
   "metadata": {},
   "outputs": [
    {
     "name": "stderr",
     "output_type": "stream",
     "text": [
      "C:\\Users\\arjun\\AppData\\Local\\Temp\\ipykernel_15780\\2479137264.py:2: FutureWarning: \n",
      "\n",
      "Passing `palette` without assigning `hue` is deprecated and will be removed in v0.14.0. Assign the `x` variable to `hue` and set `legend=False` for the same effect.\n",
      "\n",
      "  sns.countplot(x=couple_price, palette = \"deep\")\n"
     ]
    },
    {
     "data": {
      "text/plain": [
       "<Axes: xlabel='approx_cost(for two people)', ylabel='count'>"
      ]
     },
     "execution_count": 98,
     "metadata": {},
     "output_type": "execute_result"
    },
    {
     "data": {
      "image/png": "[encoded data removed]",
      "text/plain": [
       "<Figure size 640x480 with 1 Axes>"
      ]
     },
     "metadata": {},
     "output_type": "display_data"
    }
   ],
   "source": [
    "couple_price = df[\"approx_cost(for two people)\"]\n",
    "sns.countplot(x=couple_price, palette = \"deep\")"
   ]
  },
  {
   "cell_type": "markdown",
   "id": "a979dd57-86e6-450e-ba94-78d9976ffcdd",
   "metadata": {},
   "source": [
    "Conclusion: The majority of couples prefer restaurants with an approximate cost of 300 rupees."
   ]
  },
  {
   "cell_type": "markdown",
   "id": "f4c3d9f0-796b-4cdd-a169-a58857718123",
   "metadata": {},
   "source": [
    "6.Comparison between ratings got on online orders and offline orders"
   ]
  },
  {
   "cell_type": "code",
   "execution_count": 106,
   "id": "e1d5213d-2de4-490a-a8c8-47eafe14b5a8",
   "metadata": {},
   "outputs": [
    {
     "name": "stderr",
     "output_type": "stream",
     "text": [
      "C:\\Users\\arjun\\AppData\\Local\\Temp\\ipykernel_15780\\3946264687.py:2: FutureWarning: \n",
      "\n",
      "Passing `palette` without assigning `hue` is deprecated and will be removed in v0.14.0. Assign the `x` variable to `hue` and set `legend=False` for the same effect.\n",
      "\n",
      "  sns.boxplot(x = 'online_order', y = 'rate', data = df, palette=\"deep\")\n"
     ]
    },
    {
     "data": {
      "text/plain": [
       "<Axes: xlabel='online_order', ylabel='rate'>"
      ]
     },
     "execution_count": 106,
     "metadata": {},
     "output_type": "execute_result"
    },
    {
     "data": {
      "image/png": "[encoded data removed]",
      "text/plain": [
       "<Figure size 600x600 with 1 Axes>"
      ]
     },
     "metadata": {},
     "output_type": "display_data"
    }
   ],
   "source": [
    "plt.figure(figsize = (6,6))\n",
    "sns.boxplot(x = 'online_order', y = 'rate', data = df, palette=\"deep\")\n"
   ]
  },
  {
   "cell_type": "markdown",
   "id": "ea4dff77-b2f2-4cef-9ceb-c0012af2d0ef",
   "metadata": {},
   "source": [
    "Conclusion: Offline orders received lower ratings in comparison to online orders, which obtained excellent ratings."
   ]
  },
  {
   "cell_type": "code",
   "execution_count": null,
   "id": "bb73abc9-8c6b-4c34-8e02-6c919592d57c",
   "metadata": {},
   "outputs": [],
   "source": []
  }
 ],
 "metadata": {
  "kernelspec": {
   "display_name": "Python 3 (ipykernel)",
   "language": "python",
   "name": "python3"
  },
  "language_info": {
   "codemirror_mode": {
    "name": "ipython",
    "version": 3
   },
   "file_extension": ".py",
   "mimetype": "text/x-python",
   "name": "python",
   "nbconvert_exporter": "python",
   "pygments_lexer": "ipython3",
   "version": "3.12.4"
  }
 },
 "nbformat": 4,
 "nbformat_minor": 5
}
